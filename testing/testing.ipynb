{
 "cells": [
  {
   "cell_type": "markdown",
   "metadata": {},
   "source": [
    "# Testing Notebook"
   ]
  },
  {
   "cell_type": "markdown",
   "metadata": {},
   "source": [
    "### Import libraries"
   ]
  },
  {
   "cell_type": "code",
   "execution_count": 22,
   "metadata": {},
   "outputs": [],
   "source": [
    "import sys\n",
    "import os\n",
    "\n",
    "# Manually specify the path to the 'src' directory\n",
    "src_path = os.path.abspath(os.path.join(os.getcwd(), '../src'))\n",
    "\n",
    "# Add the specified path to the system path\n",
    "sys.path.append(src_path)\n",
    "\n",
    "# Third-party libraries\n",
    "import networkx as nx\n",
    "from qiskit import transpile\n",
    "from qiskit_ibm_runtime.fake_provider import FakeGuadalupeV2\n",
    "import mapomatic as mm\n",
    "\n",
    "# Local application/library imports\n",
    "import circuit_gen as circuitGen\n",
    "import max_clique as maxClique\n",
    "import qubit_mapping as qMap"
   ]
  },
  {
   "cell_type": "markdown",
   "metadata": {},
   "source": [
    "### Parameters Configuration"
   ]
  },
  {
   "cell_type": "code",
   "execution_count": 23,
   "metadata": {},
   "outputs": [],
   "source": [
    "num_modules       = 4\n",
    "module_max_qubits = 4\n",
    "module_max_gates  = 6\n",
    "buffer_distance   = 1"
   ]
  },
  {
   "cell_type": "markdown",
   "metadata": {},
   "source": [
    "### Random Circuit Generation and Mapping Computation"
   ]
  },
  {
   "cell_type": "code",
   "execution_count": null,
   "metadata": {},
   "outputs": [],
   "source": [
    "# Generate random circuit\n",
    "circuit = circuitGen.RandomCircuit(num_modules, module_max_qubits, module_max_gates)\n",
    "circuit.gen_random_circuit()\n",
    "\n",
    "# Ploy dependency graph\n",
    "circuit.draw_dependency_graph()"
   ]
  },
  {
   "cell_type": "code",
   "execution_count": 25,
   "metadata": {},
   "outputs": [],
   "source": [
    "# Generate the Quantum Circuit Mapping\n",
    "q_map = qMap.QubitMapping(circuit, backend=FakeGuadalupeV2(), buffer_distance=buffer_distance)\n",
    "q_map.generate_qubit_mapping()"
   ]
  },
  {
   "cell_type": "code",
   "execution_count": null,
   "metadata": {},
   "outputs": [],
   "source": [
    "def generate_layouts(module, backend):\n",
    "    \"\"\" Searches for, optimizes and evaluates quantum circuit layouts for a specified backend. \"\"\"    \n",
    "    trans_qc = transpile(module, backend, optimization_level=3)\n",
    "    small_qc = mm.deflate_circuit(trans_qc)\n",
    "    layouts = mm.matching_layouts(small_qc, backend)\n",
    "    scores = mm.evaluate_layouts(small_qc, layouts, backend)\n",
    "    return scores\n",
    "\n",
    "backend   = q_map.backend\n",
    "couplings = backend.coupling_map.get_edges()\n",
    "qc_graph  = nx.from_edgelist(couplings)\n",
    "\n",
    "# Retrieve the qubits associated with each chosen layout\n",
    "timestep       = 0\n",
    "chosen_layouts = []\n",
    "for vertex in q_map.qubit_mapping[timestep]:\n",
    "    layouts = generate_layouts(q_map.modules[vertex[0]], backend)\n",
    "    chosen_layouts.append(layouts[vertex[1]])\n",
    "# print(f\"Qubit associated with each layout: {chosen_layouts}\")\n",
    "\n",
    "# Plot the quantum circuit graph with the chosen layout for each mapped module\n",
    "colors    = ['blue', 'red', 'green', 'yellow', 'orange', 'purple', 'brown', 'pink']\n",
    "color_map = []\n",
    "\n",
    "for node in qc_graph:\n",
    "    in_layout = False\n",
    "    for layoutIndex, layout in enumerate(chosen_layouts):\n",
    "        if node in layout[0]:\n",
    "            color_map.append(colors[layoutIndex + 1])\n",
    "            in_layout = True\n",
    "            \n",
    "    if not in_layout:\n",
    "        color_map.append(colors[0])\n",
    "        \n",
    "nx.draw(qc_graph, node_color=color_map, with_labels=True)"
   ]
  },
  {
   "cell_type": "code",
   "execution_count": null,
   "metadata": {},
   "outputs": [],
   "source": [
    "# Plot module of the circuit\n",
    "circuit.modules[1].draw('mpl')"
   ]
  },
  {
   "cell_type": "code",
   "execution_count": null,
   "metadata": {},
   "outputs": [],
   "source": [
    "# Plot complete circuit\n",
    "circuit.get_circuit().draw('mpl')"
   ]
  }
 ],
 "metadata": {
  "kernelspec": {
   "display_name": ".venv",
   "language": "python",
   "name": "python3"
  },
  "language_info": {
   "codemirror_mode": {
    "name": "ipython",
    "version": 3
   },
   "file_extension": ".py",
   "mimetype": "text/x-python",
   "name": "python",
   "nbconvert_exporter": "python",
   "pygments_lexer": "ipython3",
   "version": "3.12.3"
  }
 },
 "nbformat": 4,
 "nbformat_minor": 2
}
