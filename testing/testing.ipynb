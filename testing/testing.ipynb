{
 "cells": [
  {
   "cell_type": "markdown",
   "metadata": {},
   "source": [
    "# Testing Notebook"
   ]
  },
  {
   "cell_type": "markdown",
   "metadata": {},
   "source": [
    "### Import libraries"
   ]
  },
  {
   "cell_type": "code",
   "execution_count": 1,
   "metadata": {},
   "outputs": [],
   "source": [
    "import sys\n",
    "import os\n",
    "import pickle\n",
    "\n",
    "# Manually specify the path to the 'src' directory\n",
    "src_path = os.path.abspath(os.path.join(os.getcwd(), '../src'))\n",
    "\n",
    "# Add the specified path to the system path\n",
    "sys.path.append(src_path)\n",
    "\n",
    "# Third-party libraries\n",
    "import networkx as nx\n",
    "from qiskit import transpile\n",
    "import mapomatic as m\n",
    "import random\n",
    "\n",
    "# Local application/library imports\n",
    "import backend_gen as backendGen\n",
    "import circuit_gen as circuitGen\n",
    "import qubit_mapping as qMap"
   ]
  },
  {
   "cell_type": "markdown",
   "metadata": {},
   "source": [
    "### Parameters Configuration"
   ]
  },
  {
   "cell_type": "code",
   "execution_count": 2,
   "metadata": {},
   "outputs": [
    {
     "ename": "AttributeError",
     "evalue": "module 'random' has no attribute 'radint'",
     "output_type": "error",
     "traceback": [
      "\u001b[0;31m---------------------------------------------------------------------------\u001b[0m",
      "\u001b[0;31mAttributeError\u001b[0m                            Traceback (most recent call last)",
      "Cell \u001b[0;32mIn[2], line 11\u001b[0m\n\u001b[1;32m      9\u001b[0m heuristic          \u001b[38;5;241m=\u001b[39m \u001b[38;5;28;01mFalse\u001b[39;00m\n\u001b[1;32m     10\u001b[0m save_backend       \u001b[38;5;241m=\u001b[39m \u001b[38;5;28;01mFalse\u001b[39;00m\n\u001b[0;32m---> 11\u001b[0m seed               \u001b[38;5;241m=\u001b[39m \u001b[43mrandom\u001b[49m\u001b[38;5;241;43m.\u001b[39;49m\u001b[43mradint\u001b[49m(\u001b[38;5;241m1\u001b[39m, \u001b[38;5;28mint\u001b[39m(\u001b[38;5;241m1e4\u001b[39m))\n",
      "\u001b[0;31mAttributeError\u001b[0m: module 'random' has no attribute 'radint'"
     ]
    }
   ],
   "source": [
    "num_modules        = 4\n",
    "module_max_qubits  = 4\n",
    "module_max_gates   = 6\n",
    "buffer_distance    = 0\n",
    "reduced_distance   = 3\n",
    "max_allowed_weight = 3\n",
    "num_qubits_x       = 5\n",
    "num_qubits_y       = 5\n",
    "heuristic          = False\n",
    "save_backend       = False\n",
    "seed               = random.radint(1, int(1e4))"
   ]
  },
  {
   "cell_type": "code",
   "execution_count": null,
   "metadata": {},
   "outputs": [],
   "source": [
    "print(f'Seed: {seed}')"
   ]
  },
  {
   "cell_type": "markdown",
   "metadata": {},
   "source": [
    "### Random Circuit Generation and Mapping Computation"
   ]
  },
  {
   "cell_type": "code",
   "execution_count": null,
   "metadata": {},
   "outputs": [
    {
     "ename": "TypeError",
     "evalue": "RandomCircuit.__init__() missing 1 required positional argument: 'seed'",
     "output_type": "error",
     "traceback": [
      "\u001b[0;31m---------------------------------------------------------------------------\u001b[0m",
      "\u001b[0;31mTypeError\u001b[0m                                 Traceback (most recent call last)",
      "Cell \u001b[0;32mIn[3], line 2\u001b[0m\n\u001b[1;32m      1\u001b[0m \u001b[38;5;66;03m# Generate random circuit\u001b[39;00m\n\u001b[0;32m----> 2\u001b[0m circuit \u001b[38;5;241m=\u001b[39m \u001b[43mcircuitGen\u001b[49m\u001b[38;5;241;43m.\u001b[39;49m\u001b[43mRandomCircuit\u001b[49m\u001b[43m(\u001b[49m\u001b[43mnum_modules\u001b[49m\u001b[43m,\u001b[49m\u001b[43m \u001b[49m\u001b[43mmodule_max_qubits\u001b[49m\u001b[43m,\u001b[49m\u001b[43m \u001b[49m\u001b[43mmodule_max_gates\u001b[49m\u001b[43m)\u001b[49m\n\u001b[1;32m      3\u001b[0m circuit\u001b[38;5;241m.\u001b[39mgen_random_circuit()\n\u001b[1;32m      5\u001b[0m \u001b[38;5;66;03m# Ploy dependency graph\u001b[39;00m\n",
      "\u001b[0;31mTypeError\u001b[0m: RandomCircuit.__init__() missing 1 required positional argument: 'seed'"
     ]
    }
   ],
   "source": [
    "# Generate random circuit\n",
    "circuit = circuitGen.RandomCircuit(num_modules, module_max_qubits, module_max_gates, seed)\n",
    "circuit.gen_random_circuit()\n",
    "\n",
    "# Ploy dependency graph\n",
    "circuit.draw_dependency_graph()"
   ]
  },
  {
   "cell_type": "code",
   "execution_count": null,
   "metadata": {},
   "outputs": [],
   "source": [
    "# Use a saved backend\n",
    "# with open('backends/backend_10x10_grid.pkl', 'rb') as file:\n",
    "#     backend = pickle.load(file)"
   ]
  },
  {
   "cell_type": "code",
   "execution_count": null,
   "metadata": {},
   "outputs": [],
   "source": [
    "# Generate the Quantum Circuit Mapping\n",
    "q_map = qMap.QubitMapping(\n",
    "    circuit, \n",
    "    backend=backendGen.generate_regular_backend(num_qubits_x, num_qubits_y),\n",
    "    buffer_distance=buffer_distance, \n",
    "    reduced_distance=reduced_distance, \n",
    "    max_allowed_weight=max_allowed_weight,\n",
    "    heuristic=heuristic\n",
    ")\n",
    "q_map.generate_qubit_mapping()\n",
    "print(f\"Qubit modules:  {q_map.modules_qubits}\")\n",
    "print(f\"Qubit mapping: {q_map.qubit_mapping}\")"
   ]
  },
  {
   "cell_type": "code",
   "execution_count": null,
   "metadata": {},
   "outputs": [],
   "source": [
    "# Draw reduced coupling graph\n",
    "couplings = q_map.reduced_coupling_maps[0].get_edges()\n",
    "qc_graph  = nx.from_edgelist(couplings)\n",
    "pos = nx.kamada_kawai_layout(qc_graph) \n",
    "nx.draw(qc_graph, pos, with_labels=True)"
   ]
  },
  {
   "cell_type": "code",
   "execution_count": null,
   "metadata": {},
   "outputs": [],
   "source": [
    "# Initialize the timestep variable\n",
    "timestep = 0"
   ]
  },
  {
   "cell_type": "code",
   "execution_count": null,
   "metadata": {},
   "outputs": [],
   "source": [
    "def generate_layouts(module, backend):\n",
    "    \"\"\" Searches for, optimizes and evaluates quantum circuit layouts for a specified backend. \"\"\"    \n",
    "    trans_qc = transpile(module, backend, optimization_level=3)\n",
    "    small_qc = mm.deflate_circuit(trans_qc)\n",
    "    layouts = mm.matching_layouts(small_qc, backend)\n",
    "    scores = mm.evaluate_layouts(small_qc, layouts, backend)\n",
    "    return scores\n",
    "\n",
    "backend   = q_map.backend\n",
    "couplings = backend.coupling_map.get_edges()\n",
    "qc_graph  = nx.from_edgelist(couplings)\n",
    "\n",
    "# Retrieve the qubits associated with each chosen layout\n",
    "chosen_layouts = q_map.qubit_mapping[timestep]\n",
    "print(f\"Chosen layouts: {chosen_layouts}\")\n",
    "\n",
    "# Plot the quantum circuit graph with the chosen layout for each mapped module\n",
    "colors    = ['blue', 'red', 'green', 'yellow', 'orange', 'purple', 'brown', 'pink']\n",
    "color_map = []\n",
    "\n",
    "for node in qc_graph:\n",
    "    in_layout = False\n",
    "    for (moduleIndex, layout) in chosen_layouts.items():\n",
    "        if node in layout:\n",
    "            color_map.append(colors[moduleIndex + 1])\n",
    "            in_layout = True            \n",
    "\n",
    "    if not in_layout:\n",
    "        color_map.append(colors[0])\n",
    "\n",
    "pos = nx.kamada_kawai_layout(qc_graph) \n",
    "nx.draw(qc_graph, pos, node_color=color_map, with_labels=True)\n",
    "\n",
    "timestep += 1\n",
    "if timestep == len(q_map.qubit_mapping):\n",
    "    timestep = 0"
   ]
  },
  {
   "cell_type": "code",
   "execution_count": null,
   "metadata": {},
   "outputs": [],
   "source": [
    "# Plot module of the circuit\n",
    "circuit.modules[3].draw('mpl')"
   ]
  },
  {
   "cell_type": "code",
   "execution_count": null,
   "metadata": {},
   "outputs": [],
   "source": [
    "# Plot complete circuit\n",
    "circuit.get_circuit().draw('mpl')"
   ]
  },
  {
   "cell_type": "code",
   "execution_count": null,
   "metadata": {},
   "outputs": [],
   "source": [
    "# Save the backend\n",
    "if save_backend:\n",
    "    with open('backends/backend.pkl', 'wb') as file:\n",
    "        pickle.dump(q_map.backend, file)"
   ]
  }
 ],
 "metadata": {
  "kernelspec": {
   "display_name": ".venv",
   "language": "python",
   "name": "python3"
  },
  "language_info": {
   "codemirror_mode": {
    "name": "ipython",
    "version": 3
   },
   "file_extension": ".py",
   "mimetype": "text/x-python",
   "name": "python",
   "nbconvert_exporter": "python",
   "pygments_lexer": "ipython3",
   "version": "3.12.3"
  }
 },
 "nbformat": 4,
 "nbformat_minor": 2
}
