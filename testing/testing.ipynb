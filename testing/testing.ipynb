{
 "cells": [
  {
   "cell_type": "markdown",
   "metadata": {},
   "source": [
    "# Testing Notebook\n",
    "\n",
    "### Import libraries"
   ]
  },
  {
   "cell_type": "code",
   "execution_count": 9,
   "metadata": {},
   "outputs": [],
   "source": [
    "import sys\n",
    "import os\n",
    "\n",
    "# Manually specify the path to the 'src' directory\n",
    "src_path = os.path.abspath(os.path.join(os.getcwd(), '../src'))\n",
    "\n",
    "# Add the specified path to the system path\n",
    "sys.path.append(src_path)\n",
    "\n",
    "# Third-party libraries\n",
    "import networkx as nx\n",
    "\n",
    "# Local application/library imports\n",
    "import compatibility_graph as compGraph\n",
    "import circuit_gen as circuitGen\n",
    "import max_clique as maxClique"
   ]
  },
  {
   "cell_type": "markdown",
   "metadata": {},
   "source": [
    "### Parameters Configuration"
   ]
  },
  {
   "cell_type": "code",
   "execution_count": 10,
   "metadata": {},
   "outputs": [],
   "source": [
    "num_modules       = 4\n",
    "module_max_qubits = 4\n",
    "module_max_gates  = 6\n",
    "buffer_distance   = 1"
   ]
  },
  {
   "cell_type": "markdown",
   "metadata": {},
   "source": [
    "### Random Circuit Generation and Compatibility Graph Computation"
   ]
  },
  {
   "cell_type": "code",
   "execution_count": 11,
   "metadata": {},
   "outputs": [],
   "source": [
    "# Generate random circuit\n",
    "circuit = circuitGen.RandomCircuit(num_modules, module_max_qubits, module_max_gates)\n",
    "circuit.gen_random_circuit()\n",
    "\n",
    "# Generate compatibility graph\n",
    "comp_graph = compGraph.CompatibilityGraph(modules=circuit.modules, buffer_distance=buffer_distance)\n",
    "comp_graph.generate_compatibility_graph()\n",
    "graph = comp_graph.graph"
   ]
  },
  {
   "cell_type": "markdown",
   "metadata": {},
   "source": [
    "The backend was not provided when the compatibility graph was generated, so by default, FakeGuadalupeV2 will be used as the backend."
   ]
  },
  {
   "cell_type": "code",
   "execution_count": null,
   "metadata": {},
   "outputs": [],
   "source": [
    "# Plot module of the circuit\n",
    "circuit.modules[0].draw('mpl')"
   ]
  },
  {
   "cell_type": "code",
   "execution_count": 13,
   "metadata": {},
   "outputs": [],
   "source": [
    "# Plot compatibility graph\n",
    "# nx.draw(graph)"
   ]
  },
  {
   "cell_type": "markdown",
   "metadata": {},
   "source": [
    "### Max Clique Computation"
   ]
  },
  {
   "cell_type": "code",
   "execution_count": null,
   "metadata": {},
   "outputs": [],
   "source": [
    "# Find maximum clique\n",
    "max_clique, max_clique_weight = maxClique.find_max_clique(graph.to_undirected())\n",
    "\n",
    "# Plot maximum clique\n",
    "nx.draw_planar(graph.subgraph(max_clique), with_labels=True)\n",
    "\n",
    "# Print results\n",
    "print(f\"Maximum clique: {max_clique}\")\n",
    "print(f\"Weight of maximum clique: {max_clique_weight}\")"
   ]
  },
  {
   "cell_type": "code",
   "execution_count": null,
   "metadata": {},
   "outputs": [],
   "source": [
    "backend   = comp_graph.backend\n",
    "couplings = comp_graph.coupling_map.get_edges()\n",
    "qc_graph  = nx.from_edgelist(couplings)\n",
    "\n",
    "# Retrieve the qubits associated with each chosen layout\n",
    "chosen_layouts = []\n",
    "for vertex in max_clique:\n",
    "    chosen_layouts.append(comp_graph.modules[vertex[0]][0][vertex[1]][0])\n",
    "print(f\"Qubit associated with each layout: {chosen_layouts}\")"
   ]
  },
  {
   "cell_type": "code",
   "execution_count": null,
   "metadata": {},
   "outputs": [],
   "source": [
    "# Plot the quantum circuit graph with the chosen layout for each mapped module\n",
    "colors    = ['blue', 'red', 'green', 'yellow', 'orange', 'purple', 'brown', 'pink']\n",
    "color_map = []\n",
    "\n",
    "for node in qc_graph:\n",
    "    in_layout = False\n",
    "    for layoutIndex, layout in enumerate(chosen_layouts):\n",
    "        if node in layout:\n",
    "            color_map.append(colors[layoutIndex + 1])\n",
    "            in_layout = True\n",
    "            \n",
    "    if not in_layout:\n",
    "        color_map.append(colors[0])\n",
    "            \n",
    "nx.draw(qc_graph, node_color=color_map, with_labels=True)"
   ]
  }
 ],
 "metadata": {
  "kernelspec": {
   "display_name": ".venv",
   "language": "python",
   "name": "python3"
  },
  "language_info": {
   "codemirror_mode": {
    "name": "ipython",
    "version": 3
   },
   "file_extension": ".py",
   "mimetype": "text/x-python",
   "name": "python",
   "nbconvert_exporter": "python",
   "pygments_lexer": "ipython3",
   "version": "3.12.3"
  }
 },
 "nbformat": 4,
 "nbformat_minor": 2
}
