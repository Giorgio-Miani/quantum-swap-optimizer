{
 "cells": [
  {
   "cell_type": "markdown",
   "metadata": {},
   "source": [
    "# Testing Notebook"
   ]
  },
  {
   "cell_type": "markdown",
   "metadata": {},
   "source": [
    "### Import libraries"
   ]
  },
  {
   "cell_type": "code",
   "execution_count": 33,
   "metadata": {},
   "outputs": [],
   "source": [
    "import sys\n",
    "import os\n",
    "\n",
    "# Manually specify the path to the 'src' directory\n",
    "src_path = os.path.abspath(os.path.join(os.getcwd(), '../src'))\n",
    "\n",
    "# Add the specified path to the system path\n",
    "sys.path.append(src_path)\n",
    "\n",
    "# Third-party libraries\n",
    "import networkx as nx\n",
    "from qiskit import transpile\n",
    "from qiskit_ibm_runtime.fake_provider import FakeGuadalupeV2, FakeBrooklynV2, FakeManhattanV2\n",
    "import mapomatic as mm\n",
    "\n",
    "# Local application/library imports\n",
    "import backend_gen as backendGen\n",
    "import circuit_gen as circuitGen\n",
    "import qubit_mapping as qMap"
   ]
  },
  {
   "cell_type": "markdown",
   "metadata": {},
   "source": [
    "### Parameters Configuration"
   ]
  },
  {
   "cell_type": "code",
   "execution_count": 34,
   "metadata": {},
   "outputs": [],
   "source": [
    "num_modules        = 4\n",
    "module_max_qubits  = 4\n",
    "module_max_gates   = 6\n",
    "buffer_distance    = 1\n",
    "reduced_distance   = 5\n",
    "max_allowed_weight = 3\n",
    "num_qubits_x       = 5\n",
    "num_qubits_y       = 5"
   ]
  },
  {
   "cell_type": "markdown",
   "metadata": {},
   "source": [
    "### Random Circuit Generation and Mapping Computation"
   ]
  },
  {
   "cell_type": "code",
   "execution_count": null,
   "metadata": {},
   "outputs": [],
   "source": [
    "# Generate random circuit\n",
    "circuit = circuitGen.RandomCircuit(num_modules, module_max_qubits, module_max_gates)\n",
    "circuit.gen_random_circuit()\n",
    "\n",
    "# Ploy dependency graph\n",
    "circuit.draw_dependency_graph()"
   ]
  },
  {
   "cell_type": "code",
   "execution_count": null,
   "metadata": {},
   "outputs": [],
   "source": [
    "# Generate the Quantum Circuit Mapping\n",
    "q_map = qMap.QubitMapping(\n",
    "    circuit, \n",
    "    backend=backendGen.generate_regular_backend(num_qubits_x, num_qubits_y), \n",
    "    buffer_distance=buffer_distance, \n",
    "    reduced_distance=reduced_distance, \n",
    "    max_allowed_weight=max_allowed_weight\n",
    ")\n",
    "q_map.generate_qubit_mapping()\n",
    "print(f\"Qubit modules:  {q_map.modules_qubits}\")\n",
    "print(f\"Qubit mapping: {q_map.qubit_mapping}\")"
   ]
  },
  {
   "cell_type": "code",
   "execution_count": null,
   "metadata": {},
   "outputs": [],
   "source": [
    "couplings = q_map.reduced_coupling_maps[0].get_edges()\n",
    "qc_graph  = nx.from_edgelist(couplings)\n",
    "pos = nx.kamada_kawai_layout(qc_graph) \n",
    "nx.draw(qc_graph, pos, with_labels=True)"
   ]
  },
  {
   "cell_type": "code",
   "execution_count": 38,
   "metadata": {},
   "outputs": [],
   "source": [
    "timestep = 0"
   ]
  },
  {
   "cell_type": "code",
   "execution_count": null,
   "metadata": {},
   "outputs": [],
   "source": [
    "def generate_layouts(module, backend):\n",
    "    \"\"\" Searches for, optimizes and evaluates quantum circuit layouts for a specified backend. \"\"\"    \n",
    "    trans_qc = transpile(module, backend, optimization_level=3)\n",
    "    small_qc = mm.deflate_circuit(trans_qc)\n",
    "    layouts = mm.matching_layouts(small_qc, backend)\n",
    "    scores = mm.evaluate_layouts(small_qc, layouts, backend)\n",
    "    return scores\n",
    "\n",
    "backend   = q_map.backend\n",
    "couplings = backend.coupling_map.get_edges()\n",
    "qc_graph  = nx.from_edgelist(couplings)\n",
    "\n",
    "# Retrieve the qubits associated with each chosen layout\n",
    "chosen_layouts = q_map.qubit_mapping[timestep]\n",
    "print(f\"Chosen layouts: {chosen_layouts}\")\n",
    "\n",
    "# Plot the quantum circuit graph with the chosen layout for each mapped module\n",
    "colors    = ['blue', 'red', 'green', 'yellow', 'orange', 'purple', 'brown', 'pink']\n",
    "color_map = []\n",
    "\n",
    "for node in qc_graph:\n",
    "    in_layout = False\n",
    "    for (moduleIndex, layout) in chosen_layouts.items():\n",
    "        if node in layout:\n",
    "            color_map.append(colors[moduleIndex + 1])\n",
    "            in_layout = True            \n",
    "\n",
    "    if not in_layout:\n",
    "        color_map.append(colors[0])\n",
    "\n",
    "pos = nx.kamada_kawai_layout(qc_graph) \n",
    "nx.draw(qc_graph, pos, node_color=color_map, with_labels=True)\n",
    "timestep      += 1\n",
    "if timestep == len(q_map.qubit_mapping):\n",
    "    timestep = 0"
   ]
  },
  {
   "cell_type": "code",
   "execution_count": null,
   "metadata": {},
   "outputs": [],
   "source": [
    "# Plot module of the circuit\n",
    "circuit.modules[3].draw('mpl')"
   ]
  },
  {
   "cell_type": "code",
   "execution_count": null,
   "metadata": {},
   "outputs": [],
   "source": [
    "# Plot complete circuit\n",
    "circuit.get_circuit().draw('mpl')"
   ]
  }
 ],
 "metadata": {
  "kernelspec": {
   "display_name": ".venv",
   "language": "python",
   "name": "python3"
  },
  "language_info": {
   "codemirror_mode": {
    "name": "ipython",
    "version": 3
   },
   "file_extension": ".py",
   "mimetype": "text/x-python",
   "name": "python",
   "nbconvert_exporter": "python",
   "pygments_lexer": "ipython3",
   "version": "3.12.3"
  }
 },
 "nbformat": 4,
 "nbformat_minor": 2
}
